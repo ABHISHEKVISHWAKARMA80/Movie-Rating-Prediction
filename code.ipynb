{
  "nbformat": 4,
  "nbformat_minor": 0,
  "metadata": {
    "colab": {
      "name": "Untitled1.ipynb",
      "provenance": [],
      "collapsed_sections": [],
      "toc_visible": true,
      "authorship_tag": "ABX9TyNdivYKYCkQ0afFL2JbNzfq",
      "include_colab_link": true
    },
    "kernelspec": {
      "name": "python3",
      "display_name": "Python 3"
    }
  },
  "cells": [
    {
      "cell_type": "markdown",
      "metadata": {
        "id": "view-in-github",
        "colab_type": "text"
      },
      "source": [
        "<a href=\"https://colab.research.google.com/github/ABHISHEKVISHWAKARMA80/Movie-Rating-Prediction/blob/master/code.ipynb\" target=\"_parent\"><img src=\"https://colab.research.google.com/assets/colab-badge.svg\" alt=\"Open In Colab\"/></a>"
      ]
    },
    {
      "cell_type": "code",
      "metadata": {
        "id": "OEYZjzEN12Op",
        "colab_type": "code",
        "colab": {}
      },
      "source": [
        "import pandas as pd\n",
        "import numpy as np"
      ],
      "execution_count": 46,
      "outputs": []
    },
    {
      "cell_type": "code",
      "metadata": {
        "id": "YDOqX1j52VlB",
        "colab_type": "code",
        "colab": {}
      },
      "source": [
        "df = pd.read_csv('/Train.csv')"
      ],
      "execution_count": 47,
      "outputs": []
    },
    {
      "cell_type": "code",
      "metadata": {
        "id": "Pucss9FY28LJ",
        "colab_type": "code",
        "colab": {
          "base_uri": "https://localhost:8080/",
          "height": 196
        },
        "outputId": "aab7318a-8c3e-4d2e-c7d9-4eb733f50396"
      },
      "source": [
        "df.head()"
      ],
      "execution_count": 48,
      "outputs": [
        {
          "output_type": "execute_result",
          "data": {
            "text/html": [
              "<div>\n",
              "<style scoped>\n",
              "    .dataframe tbody tr th:only-of-type {\n",
              "        vertical-align: middle;\n",
              "    }\n",
              "\n",
              "    .dataframe tbody tr th {\n",
              "        vertical-align: top;\n",
              "    }\n",
              "\n",
              "    .dataframe thead th {\n",
              "        text-align: right;\n",
              "    }\n",
              "</style>\n",
              "<table border=\"1\" class=\"dataframe\">\n",
              "  <thead>\n",
              "    <tr style=\"text-align: right;\">\n",
              "      <th></th>\n",
              "      <th>review</th>\n",
              "      <th>label</th>\n",
              "    </tr>\n",
              "  </thead>\n",
              "  <tbody>\n",
              "    <tr>\n",
              "      <th>0</th>\n",
              "      <td>mature intelligent and highly charged melodram...</td>\n",
              "      <td>pos</td>\n",
              "    </tr>\n",
              "    <tr>\n",
              "      <th>1</th>\n",
              "      <td>http://video.google.com/videoplay?docid=211772...</td>\n",
              "      <td>pos</td>\n",
              "    </tr>\n",
              "    <tr>\n",
              "      <th>2</th>\n",
              "      <td>Title: Opera (1987) Director: Dario Argento Ca...</td>\n",
              "      <td>pos</td>\n",
              "    </tr>\n",
              "    <tr>\n",
              "      <th>3</th>\n",
              "      <td>I think a lot of people just wrote this off as...</td>\n",
              "      <td>pos</td>\n",
              "    </tr>\n",
              "    <tr>\n",
              "      <th>4</th>\n",
              "      <td>This is a story of two dogs and a cat looking ...</td>\n",
              "      <td>pos</td>\n",
              "    </tr>\n",
              "  </tbody>\n",
              "</table>\n",
              "</div>"
            ],
            "text/plain": [
              "                                              review label\n",
              "0  mature intelligent and highly charged melodram...   pos\n",
              "1  http://video.google.com/videoplay?docid=211772...   pos\n",
              "2  Title: Opera (1987) Director: Dario Argento Ca...   pos\n",
              "3  I think a lot of people just wrote this off as...   pos\n",
              "4  This is a story of two dogs and a cat looking ...   pos"
            ]
          },
          "metadata": {
            "tags": []
          },
          "execution_count": 48
        }
      ]
    },
    {
      "cell_type": "code",
      "metadata": {
        "id": "BwowZ4KK3I3G",
        "colab_type": "code",
        "colab": {
          "base_uri": "https://localhost:8080/",
          "height": 33
        },
        "outputId": "4d7855a2-67ef-4849-a12a-769da3fbb6c9"
      },
      "source": [
        "df.shape"
      ],
      "execution_count": 49,
      "outputs": [
        {
          "output_type": "execute_result",
          "data": {
            "text/plain": [
              "(40000, 2)"
            ]
          },
          "metadata": {
            "tags": []
          },
          "execution_count": 49
        }
      ]
    },
    {
      "cell_type": "code",
      "metadata": {
        "id": "gvOMVKd_3JAk",
        "colab_type": "code",
        "colab": {
          "base_uri": "https://localhost:8080/",
          "height": 67
        },
        "outputId": "1959c88d-d53b-456e-9b28-0af3d0d40c95"
      },
      "source": [
        "df['label'].value_counts()"
      ],
      "execution_count": 50,
      "outputs": [
        {
          "output_type": "execute_result",
          "data": {
            "text/plain": [
              "pos    20011\n",
              "neg    19989\n",
              "Name: label, dtype: int64"
            ]
          },
          "metadata": {
            "tags": []
          },
          "execution_count": 50
        }
      ]
    },
    {
      "cell_type": "code",
      "metadata": {
        "id": "YE34mUnx3JC5",
        "colab_type": "code",
        "colab": {}
      },
      "source": [
        "X_train = df['review']"
      ],
      "execution_count": 51,
      "outputs": []
    },
    {
      "cell_type": "code",
      "metadata": {
        "id": "MEUcpS0d3JHC",
        "colab_type": "code",
        "colab": {}
      },
      "source": [
        "Y_train = df['label']"
      ],
      "execution_count": 52,
      "outputs": []
    },
    {
      "cell_type": "code",
      "metadata": {
        "id": "Lv4NtV1i3JJd",
        "colab_type": "code",
        "colab": {}
      },
      "source": [
        "df_test = pd.read_csv('/Test.csv')"
      ],
      "execution_count": 53,
      "outputs": []
    },
    {
      "cell_type": "code",
      "metadata": {
        "id": "f0mlXAMU3JLp",
        "colab_type": "code",
        "colab": {}
      },
      "source": [
        "X_test = list(df_test.review)"
      ],
      "execution_count": 54,
      "outputs": []
    },
    {
      "cell_type": "code",
      "metadata": {
        "id": "hPX9niHS3JN7",
        "colab_type": "code",
        "colab": {
          "base_uri": "https://localhost:8080/",
          "height": 217
        },
        "outputId": "db557b69-5988-4ed2-998f-4c6d1c5021d0"
      },
      "source": [
        "X_train"
      ],
      "execution_count": 55,
      "outputs": [
        {
          "output_type": "execute_result",
          "data": {
            "text/plain": [
              "0        mature intelligent and highly charged melodram...\n",
              "1        http://video.google.com/videoplay?docid=211772...\n",
              "2        Title: Opera (1987) Director: Dario Argento Ca...\n",
              "3        I think a lot of people just wrote this off as...\n",
              "4        This is a story of two dogs and a cat looking ...\n",
              "                               ...                        \n",
              "39995    There are similarities between Ray Lawrence's ...\n",
              "39996    For starters, I once met the director when he ...\n",
              "39997    Much of \"Over Her Dead Body\" is so painfully u...\n",
              "39998    \"Lifeforce\" is a truly bizarre adaptation of t...\n",
              "39999    I saw this movie at a screener and its the bes...\n",
              "Name: review, Length: 40000, dtype: object"
            ]
          },
          "metadata": {
            "tags": []
          },
          "execution_count": 55
        }
      ]
    },
    {
      "cell_type": "code",
      "metadata": {
        "id": "RVWWmv4e3JQK",
        "colab_type": "code",
        "colab": {}
      },
      "source": [
        "X_train = list(X_train)"
      ],
      "execution_count": 56,
      "outputs": []
    },
    {
      "cell_type": "code",
      "metadata": {
        "id": "4dCO_o5q3epj",
        "colab_type": "code",
        "colab": {}
      },
      "source": [
        "#X_test"
      ],
      "execution_count": 57,
      "outputs": []
    },
    {
      "cell_type": "markdown",
      "metadata": {
        "id": "zf08Ivao31Ux",
        "colab_type": "text"
      },
      "source": [
        "**Cleaning**"
      ]
    },
    {
      "cell_type": "code",
      "metadata": {
        "id": "dZbzVAQE3ezI",
        "colab_type": "code",
        "colab": {
          "base_uri": "https://localhost:8080/",
          "height": 50
        },
        "outputId": "c1473223-e7e0-481f-e9d9-987708de55da"
      },
      "source": [
        "import nltk\n",
        "nltk.download('stopwords')\n",
        "from nltk.corpus import stopwords\n",
        "from nltk.stem.porter import PorterStemmer\n",
        "from nltk.tokenize import RegexpTokenizer"
      ],
      "execution_count": 58,
      "outputs": [
        {
          "output_type": "stream",
          "text": [
            "[nltk_data] Downloading package stopwords to /root/nltk_data...\n",
            "[nltk_data]   Package stopwords is already up-to-date!\n"
          ],
          "name": "stdout"
        }
      ]
    },
    {
      "cell_type": "code",
      "metadata": {
        "id": "6ovd-epI3e2D",
        "colab_type": "code",
        "colab": {}
      },
      "source": [
        "#Init Objects\n",
        "en_stopwords = set(stopwords.words('english'))\n",
        "tokenizer = RegexpTokenizer(r'\\w+')\n",
        "ps = PorterStemmer()"
      ],
      "execution_count": 59,
      "outputs": []
    },
    {
      "cell_type": "code",
      "metadata": {
        "id": "R3ReZAHN3e4p",
        "colab_type": "code",
        "colab": {}
      },
      "source": [
        "def getCleanReview(review):\n",
        "    review = review.lower()\n",
        "    review = review.replace('<br /><br />',' ')\n",
        "    \n",
        "    #Tokenize\n",
        "    tokens = tokenizer.tokenize(review)\n",
        "    new_tokens = [token for token in tokens if token not in en_stopwords]\n",
        "    stemmed_tokens = [ps.stem(token) for token in new_tokens]\n",
        "    \n",
        "    cleaned_review = ' '.join(stemmed_tokens)\n",
        "    return cleaned_review"
      ],
      "execution_count": 60,
      "outputs": []
    },
    {
      "cell_type": "code",
      "metadata": {
        "id": "qxVeH6Y23e94",
        "colab_type": "code",
        "colab": {
          "base_uri": "https://localhost:8080/",
          "height": 52
        },
        "outputId": "80eda2e5-24fc-4536-e2e0-72874c623554"
      },
      "source": [
        "getCleanReview(\"mature intelligent and highly charged melodrama unbelivebly filmed in China in 1948. wei wei's stunning performance as the catylast in a love triangle is simply stunning if you have the oppurunity to see this magnificent film take it.\")"
      ],
      "execution_count": 61,
      "outputs": [
        {
          "output_type": "execute_result",
          "data": {
            "application/vnd.google.colaboratory.intrinsic+json": {
              "type": "string"
            },
            "text/plain": [
              "'matur intellig highli charg melodrama unbelivebl film china 1948 wei wei stun perform catylast love triangl simpli stun oppurun see magnific film take'"
            ]
          },
          "metadata": {
            "tags": []
          },
          "execution_count": 61
        }
      ]
    },
    {
      "cell_type": "code",
      "metadata": {
        "id": "nlXdEi383fFC",
        "colab_type": "code",
        "colab": {}
      },
      "source": [
        "X_train = [getCleanReview(review) for review in X_train]\n",
        "X_test = [getCleanReview(review) for review in X_test]"
      ],
      "execution_count": 24,
      "outputs": []
    },
    {
      "cell_type": "code",
      "metadata": {
        "id": "KOz5tJ7l4Bid",
        "colab_type": "code",
        "colab": {}
      },
      "source": [
        "#X_train"
      ],
      "execution_count": 25,
      "outputs": []
    },
    {
      "cell_type": "code",
      "metadata": {
        "id": "9032a4ea4BpR",
        "colab_type": "code",
        "colab": {}
      },
      "source": [
        "#X_test"
      ],
      "execution_count": 26,
      "outputs": []
    },
    {
      "cell_type": "code",
      "metadata": {
        "id": "Dt7hSC6X4BwF",
        "colab_type": "code",
        "colab": {
          "base_uri": "https://localhost:8080/",
          "height": 50
        },
        "outputId": "3f9b20ee-e875-483b-e3c0-1497996304cb"
      },
      "source": [
        "print(len(X_train))\n",
        "print(len(X_test))"
      ],
      "execution_count": 27,
      "outputs": [
        {
          "output_type": "stream",
          "text": [
            "40000\n",
            "10000\n"
          ],
          "name": "stdout"
        }
      ]
    },
    {
      "cell_type": "markdown",
      "metadata": {
        "id": "ymG3HQ7t4OEf",
        "colab_type": "text"
      },
      "source": [
        "**Vectorization**"
      ]
    },
    {
      "cell_type": "code",
      "metadata": {
        "id": "L3rYgD3O4LKJ",
        "colab_type": "code",
        "colab": {}
      },
      "source": [
        "from sklearn.feature_extraction.text import CountVectorizer"
      ],
      "execution_count": 28,
      "outputs": []
    },
    {
      "cell_type": "code",
      "metadata": {
        "id": "JUJGqTf-4LNc",
        "colab_type": "code",
        "colab": {}
      },
      "source": [
        "cv = CountVectorizer(ngram_range = (1,2))\n",
        "x_vec = cv.fit_transform(X_train)"
      ],
      "execution_count": 29,
      "outputs": []
    },
    {
      "cell_type": "code",
      "metadata": {
        "id": "fj19hAp24LQX",
        "colab_type": "code",
        "colab": {
          "base_uri": "https://localhost:8080/",
          "height": 870
        },
        "outputId": "316ef7f5-5d9d-4922-8acc-5a44fd86a4cf"
      },
      "source": [
        "print(x_vec)"
      ],
      "execution_count": 30,
      "outputs": [
        {
          "output_type": "stream",
          "text": [
            "  (0, 1248488)\t1\n",
            "  (0, 1029431)\t1\n",
            "  (0, 941511)\t1\n",
            "  (0, 339466)\t1\n",
            "  (0, 1263578)\t1\n",
            "  (0, 2099263)\t1\n",
            "  (0, 743520)\t2\n",
            "  (0, 353383)\t1\n",
            "  (0, 7162)\t1\n",
            "  (0, 2191716)\t2\n",
            "  (0, 1932922)\t2\n",
            "  (0, 1477767)\t1\n",
            "  (0, 320321)\t1\n",
            "  (0, 1194723)\t1\n",
            "  (0, 2072109)\t1\n",
            "  (0, 1819408)\t1\n",
            "  (0, 1423833)\t1\n",
            "  (0, 1752554)\t1\n",
            "  (0, 1213598)\t1\n",
            "  (0, 1973513)\t1\n",
            "  (0, 1248604)\t1\n",
            "  (0, 1029728)\t1\n",
            "  (0, 941565)\t1\n",
            "  (0, 339670)\t1\n",
            "  (0, 1263816)\t1\n",
            "  :\t:\n",
            "  (39999, 1813539)\t1\n",
            "  (39999, 1813544)\t1\n",
            "  (39999, 1551937)\t1\n",
            "  (39999, 912814)\t1\n",
            "  (39999, 2211394)\t1\n",
            "  (39999, 908913)\t1\n",
            "  (39999, 1446628)\t1\n",
            "  (39999, 1476321)\t1\n",
            "  (39999, 854818)\t1\n",
            "  (39999, 464350)\t1\n",
            "  (39999, 1762344)\t1\n",
            "  (39999, 1187352)\t1\n",
            "  (39999, 1325729)\t1\n",
            "  (39999, 1742460)\t1\n",
            "  (39999, 796784)\t1\n",
            "  (39999, 1863717)\t1\n",
            "  (39999, 967952)\t1\n",
            "  (39999, 1283096)\t1\n",
            "  (39999, 1510213)\t1\n",
            "  (39999, 1367643)\t1\n",
            "  (39999, 958793)\t1\n",
            "  (39999, 1707148)\t1\n",
            "  (39999, 803296)\t1\n",
            "  (39999, 464364)\t1\n",
            "  (39999, 1862858)\t1\n"
          ],
          "name": "stdout"
        }
      ]
    },
    {
      "cell_type": "code",
      "metadata": {
        "id": "OOk9uPG84fHf",
        "colab_type": "code",
        "colab": {
          "base_uri": "https://localhost:8080/",
          "height": 33
        },
        "outputId": "6c590f6b-853f-4bab-87ef-c5d2fbb2f436"
      },
      "source": [
        "x_vec.shape"
      ],
      "execution_count": 31,
      "outputs": [
        {
          "output_type": "execute_result",
          "data": {
            "text/plain": [
              "(40000, 2270363)"
            ]
          },
          "metadata": {
            "tags": []
          },
          "execution_count": 31
        }
      ]
    },
    {
      "cell_type": "code",
      "metadata": {
        "id": "gcCja4TQ4fK6",
        "colab_type": "code",
        "colab": {
          "base_uri": "https://localhost:8080/",
          "height": 33
        },
        "outputId": "025b35a7-4640-433e-f45b-d13fe6273343"
      },
      "source": [
        "print(len(cv.get_feature_names()))"
      ],
      "execution_count": 32,
      "outputs": [
        {
          "output_type": "stream",
          "text": [
            "2270363\n"
          ],
          "name": "stdout"
        }
      ]
    },
    {
      "cell_type": "code",
      "metadata": {
        "id": "dGJasmpp4fNh",
        "colab_type": "code",
        "colab": {}
      },
      "source": [
        "x_test_vec = cv.transform(X_test)"
      ],
      "execution_count": 33,
      "outputs": []
    },
    {
      "cell_type": "code",
      "metadata": {
        "id": "yuEzzG8l4fSP",
        "colab_type": "code",
        "colab": {
          "base_uri": "https://localhost:8080/",
          "height": 33
        },
        "outputId": "e45d8f34-f539-4ae6-823f-c64222c8cf63"
      },
      "source": [
        "print(x_test_vec.shape)"
      ],
      "execution_count": 34,
      "outputs": [
        {
          "output_type": "stream",
          "text": [
            "(10000, 2270363)\n"
          ],
          "name": "stdout"
        }
      ]
    },
    {
      "cell_type": "markdown",
      "metadata": {
        "id": "fOVKPUus4q2l",
        "colab_type": "text"
      },
      "source": [
        "**multinomial Naive Bayes**"
      ]
    },
    {
      "cell_type": "code",
      "metadata": {
        "id": "kuJOJgtT4fVx",
        "colab_type": "code",
        "colab": {}
      },
      "source": [
        "from sklearn.naive_bayes import MultinomialNB"
      ],
      "execution_count": 35,
      "outputs": []
    },
    {
      "cell_type": "code",
      "metadata": {
        "id": "md5zbsH14fYr",
        "colab_type": "code",
        "colab": {}
      },
      "source": [
        "mnb = MultinomialNB()"
      ],
      "execution_count": 36,
      "outputs": []
    },
    {
      "cell_type": "code",
      "metadata": {
        "id": "Gaw_wVP64zBQ",
        "colab_type": "code",
        "colab": {
          "base_uri": "https://localhost:8080/",
          "height": 33
        },
        "outputId": "1c765136-6afc-4cf6-b836-76e6efcac14e"
      },
      "source": [
        "print(mnb)"
      ],
      "execution_count": 37,
      "outputs": [
        {
          "output_type": "stream",
          "text": [
            "MultinomialNB(alpha=1.0, class_prior=None, fit_prior=True)\n"
          ],
          "name": "stdout"
        }
      ]
    },
    {
      "cell_type": "code",
      "metadata": {
        "id": "uV4bfmDK4zFD",
        "colab_type": "code",
        "colab": {
          "base_uri": "https://localhost:8080/",
          "height": 33
        },
        "outputId": "d3d476a7-6a2c-417b-d4df-2de7c16121bb"
      },
      "source": [
        "mnb.fit(x_vec,Y_train)"
      ],
      "execution_count": 38,
      "outputs": [
        {
          "output_type": "execute_result",
          "data": {
            "text/plain": [
              "MultinomialNB(alpha=1.0, class_prior=None, fit_prior=True)"
            ]
          },
          "metadata": {
            "tags": []
          },
          "execution_count": 38
        }
      ]
    },
    {
      "cell_type": "code",
      "metadata": {
        "id": "bycsciL14zHY",
        "colab_type": "code",
        "colab": {}
      },
      "source": [
        "pred = mnb.predict(x_test_vec)"
      ],
      "execution_count": 39,
      "outputs": []
    },
    {
      "cell_type": "code",
      "metadata": {
        "id": "USv0P_Kp4zKN",
        "colab_type": "code",
        "colab": {
          "base_uri": "https://localhost:8080/",
          "height": 33
        },
        "outputId": "b74bf531-299d-4ca8-cb0f-bbc50176f842"
      },
      "source": [
        "pred"
      ],
      "execution_count": 40,
      "outputs": [
        {
          "output_type": "execute_result",
          "data": {
            "text/plain": [
              "array(['neg', 'neg', 'neg', ..., 'pos', 'pos', 'neg'], dtype='<U3')"
            ]
          },
          "metadata": {
            "tags": []
          },
          "execution_count": 40
        }
      ]
    },
    {
      "cell_type": "code",
      "metadata": {
        "id": "ssqnoW4d4-Ju",
        "colab_type": "code",
        "colab": {}
      },
      "source": [
        "Id = np.arange(10000)"
      ],
      "execution_count": 41,
      "outputs": []
    },
    {
      "cell_type": "code",
      "metadata": {
        "id": "EUq_WIkV4-Mb",
        "colab_type": "code",
        "colab": {}
      },
      "source": [
        "f = pd.DataFrame(pred,columns = ['label'])"
      ],
      "execution_count": 42,
      "outputs": []
    },
    {
      "cell_type": "code",
      "metadata": {
        "id": "cdGSxgoL4-RT",
        "colab_type": "code",
        "colab": {}
      },
      "source": [
        "f['Id'] = np.arange(10000)"
      ],
      "execution_count": 43,
      "outputs": []
    },
    {
      "cell_type": "code",
      "metadata": {
        "id": "tJ-c5xDK4-Ut",
        "colab_type": "code",
        "colab": {}
      },
      "source": [
        "f = f[['Id','label']]"
      ],
      "execution_count": 44,
      "outputs": []
    },
    {
      "cell_type": "code",
      "metadata": {
        "id": "yl9yZr794-aB",
        "colab_type": "code",
        "colab": {}
      },
      "source": [
        "f.to_csv('MovieReview.csv',index = False)"
      ],
      "execution_count": 45,
      "outputs": []
    },
    {
      "cell_type": "code",
      "metadata": {
        "id": "yGYCm2uSwdbL",
        "colab_type": "code",
        "colab": {
          "base_uri": "https://localhost:8080/",
          "height": 17
        },
        "outputId": "e9ea54b9-9079-47b1-a5a6-235bc06b3535"
      },
      "source": [
        "from google.colab import files\n",
        "files.download(\"MovieReview.csv\")"
      ],
      "execution_count": 62,
      "outputs": [
        {
          "output_type": "display_data",
          "data": {
            "application/javascript": [
              "\n",
              "    async function download(id, filename, size) {\n",
              "      if (!google.colab.kernel.accessAllowed) {\n",
              "        return;\n",
              "      }\n",
              "      const div = document.createElement('div');\n",
              "      const label = document.createElement('label');\n",
              "      label.textContent = `Downloading \"${filename}\": `;\n",
              "      div.appendChild(label);\n",
              "      const progress = document.createElement('progress');\n",
              "      progress.max = size;\n",
              "      div.appendChild(progress);\n",
              "      document.body.appendChild(div);\n",
              "\n",
              "      const buffers = [];\n",
              "      let downloaded = 0;\n",
              "\n",
              "      const channel = await google.colab.kernel.comms.open(id);\n",
              "      // Send a message to notify the kernel that we're ready.\n",
              "      channel.send({})\n",
              "\n",
              "      for await (const message of channel.messages) {\n",
              "        // Send a message to notify the kernel that we're ready.\n",
              "        channel.send({})\n",
              "        if (message.buffers) {\n",
              "          for (const buffer of message.buffers) {\n",
              "            buffers.push(buffer);\n",
              "            downloaded += buffer.byteLength;\n",
              "            progress.value = downloaded;\n",
              "          }\n",
              "        }\n",
              "      }\n",
              "      const blob = new Blob(buffers, {type: 'application/binary'});\n",
              "      const a = document.createElement('a');\n",
              "      a.href = window.URL.createObjectURL(blob);\n",
              "      a.download = filename;\n",
              "      div.appendChild(a);\n",
              "      a.click();\n",
              "      div.remove();\n",
              "    }\n",
              "  "
            ],
            "text/plain": [
              "<IPython.core.display.Javascript object>"
            ]
          },
          "metadata": {
            "tags": []
          }
        },
        {
          "output_type": "display_data",
          "data": {
            "application/javascript": [
              "download(\"download_6c283f34-e381-4fde-b8ce-e6828c79873a\", \"Solution1.csv\", 88899)"
            ],
            "text/plain": [
              "<IPython.core.display.Javascript object>"
            ]
          },
          "metadata": {
            "tags": []
          }
        }
      ]
    }
  ]
}